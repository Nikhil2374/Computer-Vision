{
  "nbformat": 4,
  "nbformat_minor": 0,
  "metadata": {
    "colab": {
      "provenance": [],
      "authorship_tag": "ABX9TyOyZOFSJAdqbiEfd/it0s6+",
      "include_colab_link": true
    },
    "kernelspec": {
      "name": "python3",
      "display_name": "Python 3"
    },
    "language_info": {
      "name": "python"
    }
  },
  "cells": [
    {
      "cell_type": "markdown",
      "metadata": {
        "id": "view-in-github",
        "colab_type": "text"
      },
      "source": [
        "<a href=\"https://colab.research.google.com/github/Nikhil2374/Computer-Vision/blob/main/Remove%20noise%20from%20images%20and%20apply%20inverse%20filtering.ipynb\" target=\"_parent\"><img src=\"https://colab.research.google.com/assets/colab-badge.svg\" alt=\"Open In Colab\"/></a>"
      ]
    },
    {
      "cell_type": "code",
      "execution_count": 1,
      "metadata": {
        "colab": {
          "base_uri": "https://localhost:8080/"
        },
        "id": "J_rs9F-rWe8E",
        "outputId": "18c25f1d-8f1d-40a2-f334-07411044ef22"
      },
      "outputs": [
        {
          "output_type": "execute_result",
          "data": {
            "text/plain": [
              "True"
            ]
          },
          "metadata": {},
          "execution_count": 1
        }
      ],
      "source": [
        "import cv2\n",
        "\n",
        "# Load the input image\n",
        "image = cv2.imread('input_image.png')\n",
        "\n",
        "# Apply noise removal filter (e.g., median filter)\n",
        "denoised_image = cv2.medianBlur(image, 5)\n",
        "\n",
        "# Save or display the denoised image\n",
        "cv2.imwrite('denoised_image.jpg', denoised_image)\n"
      ]
    },
    {
      "cell_type": "code",
      "source": [
        "import cv2\n",
        "import numpy as np\n",
        "\n",
        "# Load the degraded image\n",
        "degraded_image = cv2.imread('degraded_image.png', cv2.IMREAD_GRAYSCALE)\n",
        "\n",
        "if degraded_image is None:\n",
        "    raise ValueError(\"Image not found. Check the file path.\")\n",
        "\n",
        "# Apply Fourier transform to the degraded image\n",
        "degraded_fft = np.fft.fft2(degraded_image)\n",
        "degraded_fft_shifted = np.fft.fftshift(degraded_fft)\n",
        "\n",
        "# Create a simple degradation function (Gaussian blur in the frequency domain)\n",
        "rows, cols = degraded_image.shape\n",
        "crow, ccol = rows // 2, cols // 2\n",
        "\n",
        "# Create a Gaussian filter in the frequency domain\n",
        "degradation_function = np.zeros((rows, cols), np.float32)\n",
        "sigma = 10  # Standard deviation of Gaussian\n",
        "for i in range(rows):\n",
        "    for j in range(cols):\n",
        "        degradation_function[i, j] = np.exp(-((i - crow)**2 + (j - ccol)**2) / (2 * sigma**2))\n",
        "\n",
        "# Define noise spectrum (assuming no noise for simplicity)\n",
        "noise_spectrum = 0\n",
        "\n",
        "# Apply inverse filter in the frequency domain\n",
        "inverse_filter = np.conj(degradation_function) / (np.abs(degradation_function)**2 + noise_spectrum)\n",
        "\n",
        "# Apply the inverse filter to the degraded FFT image\n",
        "restored_fft = degraded_fft_shifted * inverse_filter\n",
        "\n",
        "# Perform inverse Fourier transform to obtain the restored image\n",
        "restored_fft_shifted = np.fft.ifftshift(restored_fft)\n",
        "restored_image = np.fft.ifft2(restored_fft_shifted)\n",
        "restored_image = np.abs(restored_image)\n",
        "\n",
        "# Save or display the restored image\n",
        "cv2.imwrite('restored_image.jpg', restored_image)\n"
      ],
      "metadata": {
        "colab": {
          "base_uri": "https://localhost:8080/"
        },
        "id": "dACQDgqlWgHb",
        "outputId": "0cfc5f45-52a2-469b-9f59-87baccb56213"
      },
      "execution_count": 7,
      "outputs": [
        {
          "output_type": "stream",
          "name": "stderr",
          "text": [
            "<ipython-input-7-69ba022f4255>:29: RuntimeWarning: divide by zero encountered in divide\n",
            "  inverse_filter = np.conj(degradation_function) / (np.abs(degradation_function)**2 + noise_spectrum)\n",
            "<ipython-input-7-69ba022f4255>:29: RuntimeWarning: invalid value encountered in divide\n",
            "  inverse_filter = np.conj(degradation_function) / (np.abs(degradation_function)**2 + noise_spectrum)\n"
          ]
        },
        {
          "output_type": "execute_result",
          "data": {
            "text/plain": [
              "True"
            ]
          },
          "metadata": {},
          "execution_count": 7
        }
      ]
    }
  ]
}